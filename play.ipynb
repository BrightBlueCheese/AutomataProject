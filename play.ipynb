{
 "cells": [
  {
   "cell_type": "code",
   "execution_count": 2,
   "metadata": {},
   "outputs": [],
   "source": [
    "import numpy as np\n",
    "from itertools import product\n"
   ]
  },
  {
   "cell_type": "code",
   "execution_count": 2,
   "metadata": {},
   "outputs": [
    {
     "name": "stdout",
     "output_type": "stream",
     "text": [
      "[[1 2 3]\n",
      " [4 5 6]\n",
      " [7 8 9]]\n"
     ]
    }
   ],
   "source": [
    "cell_one = [_ for _ in range(1,4)]\n",
    "cell_1t9 = []\n",
    "for i in range(3):\n",
    "    ma_list = []\n",
    "    for j in cell_one:\n",
    "        ma_list.append(j + 3*i )\n",
    "    cell_1t9.append(ma_list)\n",
    "\n",
    "ma_mat = np.array(cell_1t9)\n",
    "print(ma_mat)\n",
    "\n"
   ]
  },
  {
   "cell_type": "code",
   "execution_count": 37,
   "metadata": {},
   "outputs": [
    {
     "data": {
      "text/plain": [
       "array([[0., 0., 0.],\n",
       "       [0., 0., 0.],\n",
       "       [0., 0., 0.]])"
      ]
     },
     "execution_count": 37,
     "metadata": {},
     "output_type": "execute_result"
    }
   ],
   "source": [
    "# x좌표가   xmin x max\n",
    "# y좌표가 ymin ymax\n",
    "\n",
    "cells = np.zeros((3, 3))\n",
    "cells"
   ]
  },
  {
   "cell_type": "code",
   "execution_count": 34,
   "metadata": {},
   "outputs": [
    {
     "data": {
      "text/plain": [
       "3"
      ]
     },
     "execution_count": 34,
     "metadata": {},
     "output_type": "execute_result"
    }
   ],
   "source": [
    "len(cells)"
   ]
  },
  {
   "cell_type": "code",
   "execution_count": 12,
   "metadata": {},
   "outputs": [
    {
     "data": {
      "text/plain": [
       "array([[0., 0., 0.],\n",
       "       [0., 0., 0.],\n",
       "       [0., 0., 0.]])"
      ]
     },
     "execution_count": 12,
     "metadata": {},
     "output_type": "execute_result"
    }
   ],
   "source": [
    "updated_cells = np.zeros((cells.shape[0], cells.shape[1]))\n",
    "updated_cells"
   ]
  },
  {
   "cell_type": "code",
   "execution_count": 31,
   "metadata": {},
   "outputs": [
    {
     "name": "stdout",
     "output_type": "stream",
     "text": [
      "0 0\n",
      "0 1\n",
      "0 2\n",
      "1 0\n",
      "1 1\n",
      "1 2\n",
      "2 0\n",
      "2 1\n",
      "2 2\n"
     ]
    }
   ],
   "source": [
    "for row, col in np.ndindex(ma_mat.shape):\n",
    "    print(row, col)\n",
    "    # if row == len()"
   ]
  },
  {
   "cell_type": "code",
   "execution_count": 39,
   "metadata": {},
   "outputs": [
    {
     "name": "stdout",
     "output_type": "stream",
     "text": [
      "[[1 2 3]\n",
      " [4 5 6]\n",
      " [7 8 9]]\n"
     ]
    }
   ],
   "source": [
    "cell_one = [_ for _ in range(1,4)]\n",
    "cell_1t9 = []\n",
    "for i in range(3):\n",
    "    ma_list = []\n",
    "    for j in cell_one:\n",
    "        ma_list.append(j + 3*i )\n",
    "    cell_1t9.append(ma_list)\n",
    "\n",
    "ma_mat = np.array(cell_1t9)\n",
    "print(ma_mat)"
   ]
  },
  {
   "cell_type": "code",
   "execution_count": 55,
   "metadata": {},
   "outputs": [
    {
     "data": {
      "text/plain": [
       "array([[8, 9]])"
      ]
     },
     "execution_count": 55,
     "metadata": {},
     "output_type": "execute_result"
    }
   ],
   "source": [
    "ma_mat[-1:3, 1:3]"
   ]
  },
  {
   "cell_type": "code",
   "execution_count": 44,
   "metadata": {},
   "outputs": [
    {
     "data": {
      "text/plain": [
       "array([], shape=(0, 0), dtype=int32)"
      ]
     },
     "execution_count": 44,
     "metadata": {},
     "output_type": "execute_result"
    }
   ],
   "source": [
    "ma_mat[-1:2, -1:2]"
   ]
  },
  {
   "cell_type": "code",
   "execution_count": 42,
   "metadata": {},
   "outputs": [
    {
     "name": "stdout",
     "output_type": "stream",
     "text": [
      "xmin, ymin : 1\n",
      "xmin : 2\n",
      "xmin, ymax : 3\n",
      "ymin : 4\n",
      "else : 5\n",
      "ymin : 6\n",
      "xmax, ymin : 7\n",
      "xmax : 8\n",
      "xmax, ymax : 9\n"
     ]
    }
   ],
   "source": [
    "\n",
    "for row, col in np.ndindex(ma_mat.shape):\n",
    "    # print(ma_mat[row, col])\n",
    "    # xmin ymin (0, 0)\n",
    "    if (row == 0) and (col == 0):\n",
    "        print(f'xmin, ymin : {ma_mat[row, col]}')\n",
    "    # xmax, ymax (2, 2)\n",
    "    elif (row == (len(ma_mat) - 1)) and (col == (len(ma_mat[0]) - 1)):\n",
    "        print(f'xmax, ymax : {ma_mat[row, col]}')\n",
    "    # xmin ymax (0, 2)\n",
    "    elif (row == 0) and (col == (len(ma_mat[0]) - 1)):\n",
    "        print(f'xmin, ymax : {ma_mat[row, col]}')\n",
    "    # xmax ymin (2, 0)\n",
    "    elif (row == (len(ma_mat) - 1)) and (col == 0):\n",
    "        print(f'xmax, ymin : {ma_mat[row, col]}')\n",
    "    # xmin\n",
    "    elif (row == 0):\n",
    "        print(f'xmin : {ma_mat[row, col]}')\n",
    "    # xmax\n",
    "    elif (row == (len(ma_mat) - 1)):\n",
    "        print(f'xmax : {ma_mat[row, col]}')\n",
    "    # ymin\n",
    "    elif (col == 0):\n",
    "        print(f'ymin : {ma_mat[row, col]}')\n",
    "    # ymax\n",
    "    elif (col == (len(ma_mat) - 1)):\n",
    "        print(f'ymin : {ma_mat[row, col]}')\n",
    "    else:\n",
    "        print(f'else : {ma_mat[row, col]}')"
   ]
  },
  {
   "cell_type": "code",
   "execution_count": 45,
   "metadata": {},
   "outputs": [
    {
     "data": {
      "text/plain": [
       "[(1, 2)]"
      ]
     },
     "execution_count": 45,
     "metadata": {},
     "output_type": "execute_result"
    }
   ],
   "source": [
    "da_listo = []\n",
    "da_listo.append((1, 2))\n",
    "da_listo"
   ]
  },
  {
   "cell_type": "code",
   "execution_count": 56,
   "metadata": {},
   "outputs": [
    {
     "data": {
      "text/plain": [
       "array([[0., 0., 0., 0., 0.],\n",
       "       [0., 0., 0., 0., 0.],\n",
       "       [0., 0., 0., 0., 0.],\n",
       "       [0., 0., 0., 0., 0.],\n",
       "       [0., 0., 0., 0., 0.]])"
      ]
     },
     "execution_count": 56,
     "metadata": {},
     "output_type": "execute_result"
    }
   ],
   "source": [
    "ma_mat2"
   ]
  },
  {
   "cell_type": "code",
   "execution_count": 61,
   "metadata": {},
   "outputs": [
    {
     "data": {
      "text/plain": [
       "[('a', 'A'), ('a', 'B'), ('b', 'A'), ('b', 'B')]"
      ]
     },
     "execution_count": 61,
     "metadata": {},
     "output_type": "execute_result"
    }
   ],
   "source": [
    "list_a = ['a', 'b']\n",
    "list_b = ['A', 'B']\n",
    "list_c = [list_a, list_b]\n",
    "list_c\n",
    "list(product(*list_c))"
   ]
  },
  {
   "cell_type": "code",
   "execution_count": 74,
   "metadata": {},
   "outputs": [
    {
     "data": {
      "text/plain": [
       "array([[1, 2, 3],\n",
       "       [4, 5, 6],\n",
       "       [7, 8, 9]])"
      ]
     },
     "execution_count": 74,
     "metadata": {},
     "output_type": "execute_result"
    }
   ],
   "source": [
    "ma_mat"
   ]
  },
  {
   "cell_type": "code",
   "execution_count": 76,
   "metadata": {},
   "outputs": [
    {
     "data": {
      "text/plain": [
       "array([3, 1])"
      ]
     },
     "execution_count": 76,
     "metadata": {},
     "output_type": "execute_result"
    }
   ],
   "source": [
    "ma_mat[[0,0], [2, 0]]"
   ]
  },
  {
   "cell_type": "code",
   "execution_count": 82,
   "metadata": {},
   "outputs": [
    {
     "data": {
      "text/plain": [
       "0.0"
      ]
     },
     "execution_count": 82,
     "metadata": {},
     "output_type": "execute_result"
    }
   ],
   "source": [
    "ma_mat2 = np.zeros((5,5))\n",
    "row, col = 0, 0\n",
    "ma_mat2[row, col+1] + ma_mat2[row+1, col] + ma_mat2[row+1,col+1]"
   ]
  },
  {
   "cell_type": "code",
   "execution_count": 93,
   "metadata": {},
   "outputs": [
    {
     "data": {
      "text/plain": [
       "array([[1, 2, 3],\n",
       "       [4, 5, 6],\n",
       "       [7, 8, 9]])"
      ]
     },
     "execution_count": 93,
     "metadata": {},
     "output_type": "execute_result"
    }
   ],
   "source": [
    "ma_mat"
   ]
  },
  {
   "cell_type": "code",
   "execution_count": 98,
   "metadata": {},
   "outputs": [
    {
     "data": {
      "text/plain": [
       "0"
      ]
     },
     "execution_count": 98,
     "metadata": {},
     "output_type": "execute_result"
    }
   ],
   "source": [
    "row, col = 0, 1\n",
    "np.sum(ma_mat[row-1:row+2, col-1:col+2] - ma_mat[row, col])"
   ]
  },
  {
   "cell_type": "code",
   "execution_count": 102,
   "metadata": {},
   "outputs": [
    {
     "data": {
      "text/plain": [
       "6"
      ]
     },
     "execution_count": 102,
     "metadata": {},
     "output_type": "execute_result"
    }
   ],
   "source": [
    "row, col = 0, 1\n",
    "np.sum(ma_mat[row+1:row+2, col+1])"
   ]
  },
  {
   "cell_type": "code",
   "execution_count": 133,
   "metadata": {},
   "outputs": [
    {
     "name": "stdout",
     "output_type": "stream",
     "text": [
      "[7 8 9]\n",
      "[[1 2 3]\n",
      " [4 5 6]]\n"
     ]
    },
    {
     "data": {
      "text/plain": [
       "19"
      ]
     },
     "execution_count": 133,
     "metadata": {},
     "output_type": "execute_result"
    }
   ],
   "source": [
    "row, col = 0, 1\n",
    "print(ma_mat[row-1, col-1:col+2])\n",
    "print(ma_mat[row:row+2, col-1:col+2])\n",
    "np.sum(ma_mat[row:row+2, col-1:col+2]) - ma_mat[row, col]"
   ]
  },
  {
   "cell_type": "code",
   "execution_count": 137,
   "metadata": {},
   "outputs": [
    {
     "name": "stdout",
     "output_type": "stream",
     "text": [
      "[[4 5 6]\n",
      " [7 8 9]]\n",
      "[1 2 3]\n"
     ]
    }
   ],
   "source": [
    "row, col = 2, 1\n",
    "\n",
    "oppositor = len(ma_mat) - 1 \n",
    "print(ma_mat[row-1:row+1, col-1:col+2])\n",
    "print(ma_mat[row-(len(ma_mat)-1), col-1:col+2])"
   ]
  },
  {
   "cell_type": "code",
   "execution_count": 141,
   "metadata": {},
   "outputs": [
    {
     "name": "stdout",
     "output_type": "stream",
     "text": [
      "[3 6 9]\n",
      "[[1 2]\n",
      " [4 5]\n",
      " [7 8]]\n"
     ]
    }
   ],
   "source": [
    "row, col = 1, 0\n",
    "print(ma_mat[row-1:row+2, col-1])\n",
    "print(ma_mat[row-1:row+2, col:col+2])"
   ]
  },
  {
   "cell_type": "code",
   "execution_count": 143,
   "metadata": {},
   "outputs": [
    {
     "name": "stdout",
     "output_type": "stream",
     "text": [
      "[[2 3]\n",
      " [5 6]\n",
      " [8 9]]\n",
      "[1 4 7]\n"
     ]
    }
   ],
   "source": [
    "row, col = 1, 2\n",
    "print(ma_mat[row-1:row+2, col-1:col+2])\n",
    "print(ma_mat[row-1:row+2, col-(len(ma_mat[0])-1)])"
   ]
  },
  {
   "cell_type": "code",
   "execution_count": 145,
   "metadata": {},
   "outputs": [
    {
     "name": "stdout",
     "output_type": "stream",
     "text": [
      "40\n"
     ]
    }
   ],
   "source": [
    "row, col = 1, 1\n",
    "row_m, row_max, col_m, col_max = 0, (len(ma_mat) - 1), 0, (len(ma_mat[0]) - 1)\n",
    "if (row == row_m) and (col == col_m):\n",
    "        # print(f'xmin, ymin : {ma_mat[row, col]}')\n",
    "        # xmin_ymin_list.append((row, col))\n",
    "    alive = ma_mat[row_m, col_m+1] + ma_mat[row_m+1, col_m] + ma_mat[row_m+1, col_m+1] + ma_mat[row_max, col_m] + \\\n",
    "        ma_mat[row_max, col_m+1] + ma_mat[row_m, col_max] + ma_mat[row_m+1, col_max] + ma_mat[row_max, col_max]\n",
    "\n",
    "# xmax, ymax (2, 2)\n",
    "elif (row == row_max) and (col == col_max):\n",
    "    # print(f'xmax, ymax : {ma_mat[row, col]}')\n",
    "    # xmax_ymax_list.append((row, col))\n",
    "    alive = ma_mat[row_max, col_max-1] + ma_mat[row_max-1, col_max] + ma_mat[row_max-1, col_max-1] + ma_mat[row_m, col_max] + \\\n",
    "        ma_mat[row_m, col_max-1] + ma_mat[row_max, col_m] + ma_mat[row_max-1, col_m] + ma_mat[row_m, col_m]\n",
    "# xmin ymax (0, 2)\n",
    "elif (row == row_m) and (col == col_max):\n",
    "    # print(f'xmin, ymax : {ma_mat[row, col]}')\n",
    "    # xmin_ymax_list.append((row, col))\n",
    "    alive = ma_mat[row_m, col_max-1] + ma_mat[row_m+1, col_max] + ma_mat[row_m+1, col_max-1] + ma_mat[row_max, col_max] + \\\n",
    "        ma_mat[row_max, col_max-1] + ma_mat[row_m, col_m] + ma_mat[row_m+1, col_m] + ma_mat[row_max, col_m]\n",
    "# xmax ymin (2, 0)\n",
    "elif (row == row_max) and (col == col_m):\n",
    "    # print(f'xmax, ymin : {ma_mat[row, col]}')\n",
    "    # xmax_ymin_list.append((row, col))\n",
    "    alive = ma_mat[row_max, col_m+1] + ma_mat[row_max-1, col_m] + ma_mat[row_max-1, col_m+1] + ma_mat[row_m, col_m] + \\\n",
    "        ma_mat[row_m, col_m+1] + ma_mat[row_max, col_max] + ma_mat[row_max-1, col_max] + ma_mat[row_m, col_max]\n",
    "elif (row == row_m):\n",
    "    # print(f'xmin : {ma_mat2[row, col]}')\n",
    "    # xmin_list.append((row, col))\n",
    "    alive = np.sum(ma_mat[row:row+2, col-1:col+2]) - ma_mat[row, col] + np.sum(ma_mat[row-1, col-1:col+2])\n",
    "# xmax\n",
    "elif (row == row_max):\n",
    "    # print(f'xmax : {ma_mat2[row, col]}')\n",
    "    # xmax_list.append((row, col))\n",
    "    alive = np.sum(ma_mat[row-1:row+1, col-1:col+2]) - ma_mat[row, col] + np.sum(ma_mat[row-(len(ma_mat)-1), col-1:col+2])\n",
    "# ymin\n",
    "elif (col == col_m):\n",
    "    # print(f'ymin : {ma_mat2[row, col]}')\n",
    "    # ymin_list.append((row, col))\n",
    "    alive = np.sum(ma_mat[row-1:row+2, col:col+2]) - ma_mat[row, col] + np.sum(ma_mat[row-1:row+2, col-1])\n",
    "# ymax\n",
    "elif (col == col_max):\n",
    "    # print(f'ymin : {ma_mat2[row, col]}')\n",
    "    # ymax_list.append((row, col))\n",
    "    alive = np.sum(ma_mat[row-1:row+2, col-1:col+2]) - ma_mat[row, col] + np.sum(ma_mat[row-1:row+2, col-(len(ma_mat[0])-1)])\n",
    "else:\n",
    "    # print(f'else : {ma_mat2[row, col]}')\n",
    "    # the_rest_list.append((row, col))\n",
    "    alive = np.sum(ma_mat[row-1:row+2, col-1:col+2]) - ma_mat[row, col]\n",
    "\n",
    "print(alive)"
   ]
  },
  {
   "cell_type": "code",
   "execution_count": 86,
   "metadata": {},
   "outputs": [
    {
     "data": {
      "text/plain": [
       "3"
      ]
     },
     "execution_count": 86,
     "metadata": {},
     "output_type": "execute_result"
    }
   ],
   "source": [
    "ma_mat2 = np.zeros((5,5))\n",
    "row_max, col_max = (len(ma_mat2) - 1), (len(ma_mat2[0]) - 1)\n",
    "col_max-1"
   ]
  },
  {
   "cell_type": "code",
   "execution_count": null,
   "metadata": {},
   "outputs": [],
   "source": [
    "#original\n",
    "mat_mat2 = np.zeros((5,5))\n",
    "xmin_ymin_list = []\n",
    "xmax_ymax_list = []\n",
    "xmin_ymax_list = []\n",
    "xmax_ymin_list = []\n",
    "xmin_list = []\n",
    "xmax_list = []\n",
    "ymin_list = []\n",
    "ymax_list = []\n",
    "the_rest_list = []\n",
    "\n",
    "row_m, row_max, col_m, col_max = 0, (len(ma_mat2) - 1), 0, (len(ma_mat2[0]) - 1)\n",
    "\n",
    "for row, col in np.ndindex(ma_mat2.shape):\n",
    "    # print(mat_mat2[row, col])\n",
    "\n",
    "    # color = color_bg if cells[row, col] == 0 else color_alive_next\n",
    "    \n",
    "    # xmin ymin (0, 0)\n",
    "    \n",
    "    if (row == row_m) and (col == col_m):\n",
    "        # print(f'xmin, ymin : {ma_mat2[row, col]}')\n",
    "        # xmin_ymin_list.append((row, col))\n",
    "        alive = ma_mat2[row_m, col_m+1] + ma_mat2[row_m+1, col_m] + ma_mat2[row_m+1, col_m+1] + ma_mat2[row_max, col_m] + \\\n",
    "            ma_mat2[row_max, col_m+1] + ma_mat2[row_m, col_max] + ma_mat2[row_m+1, col_max] + ma_mat2[row_max, col_max]\n",
    "\n",
    "    # xmax, ymax (2, 2)\n",
    "    elif (row == row_max) and (col == col_max):\n",
    "        # print(f'xmax, ymax : {ma_mat2[row, col]}')\n",
    "        # xmax_ymax_list.append((row, col))\n",
    "        alive = ma_mat2[row_max, col_max-1] + ma_mat2[row_max-1, col_max] + ma_mat2[row_max-1, col_max-1] + ma_mat2[row_m, col_max] + \\\n",
    "            ma_mat2[row_m, col_max-1] + ma_mat2[row_max, col_m] + ma_mat2[row_max-1, col_m] + ma_mat2[row_m, col_m]\n",
    "    # xmin ymax (0, 2)\n",
    "    elif (row == row_m) and (col == col_max):\n",
    "        # print(f'xmin, ymax : {ma_mat2[row, col]}')\n",
    "        # xmin_ymax_list.append((row, col))\n",
    "        alive = ma_mat2[row_m, col_max-1] + ma_mat2[row_m+1, col_max] + ma_mat2[row_m+1, col_max-1] + ma_mat2[row_max, col_max] + \\\n",
    "            ma_mat2[row_max, col_max-1] + ma_mat2[row_m, col_m] + ma_mat2[row_m+1, col_m] + ma_mat2[row_max, col_m]\n",
    "    # xmax ymin (2, 0)\n",
    "    elif (row == row_max) and (col == col_m):\n",
    "        # print(f'xmax, ymin : {ma_mat2[row, col]}')\n",
    "        # xmax_ymin_list.append((row, col))\n",
    "        alive = ma_mat2[row_max, col_m+1] + ma_mat2[row_max-1, col_m] + ma_mat2[row_max-1, col_m+1] + ma_mat2[row_m, col_m] + \\\n",
    "            ma_mat2[row_m, col_m+1] + ma_mat2[row_max, col_max] + ma_mat2[row_max-1, col_max] + ma_mat2[row_m, col_max]\n",
    "    # xmin\n",
    "    elif (row == row_m):\n",
    "    # print(f'xmin : {ma_mat2[row, col]}')\n",
    "    # xmin_list.append((row, col))\n",
    "        alive = np.sum(ma_mat2[row:row+2, col-1:col+2]) - ma_mat2[row, col] + np.sum(ma_mat2[row-1, col-1:col+2])\n",
    "    # xmax\n",
    "    elif (row == row_max):\n",
    "        # print(f'xmax : {ma_mat2[row, col]}')\n",
    "        # xmax_list.append((row, col))\n",
    "        alive = np.sum(ma_mat2[row-1:row+1, col-1:col+2]) - ma_mat2[row, col] + np.sum(ma_mat2[row-(len(ma_mat2)-1), col-1:col+2])\n",
    "    # ymin\n",
    "    elif (col == col_m):\n",
    "        # print(f'ymin : {ma_mat2[row, col]}')\n",
    "        # ymin_list.append((row, col))\n",
    "        alive = np.sum(ma_mat2[row-1:row+2, col:col+2]) - ma_mat2[row, col] + np.sum(ma_mat2[row-1:row+2, col-1])\n",
    "    # ymax\n",
    "    elif (col == col_max):\n",
    "        # print(f'ymin : {ma_mat2[row, col]}')\n",
    "        # ymax_list.append((row, col))\n",
    "        alive = np.sum(ma_mat2[row-1:row+2, col-1:col+2]) - ma_mat2[row, col] + np.sum(ma_mat2[row-1:row+2, col-(len(ma_mat2[0])-1)])\n",
    "    else:\n",
    "        # print(f'else : {ma_mat2[row, col]}')\n",
    "        # the_rest_list.append((row, col))\n",
    "        alive = np.sum(ma_mat2[row-1:row+2, col-1:col+2]) - ma_mat2[row, col]\n",
    "\n",
    "\n",
    "print(f'xmin, ymin : {xmin_ymin_list}')\n",
    "print(f'xmax, ymax : {xmax_ymax_list}')\n",
    "print(f'xmin, ymax : {xmin_ymax_list}')\n",
    "print(f'xmax, ymin : {xmax_ymin_list}')\n",
    "print(f'xmin : {xmin_list}')\n",
    "print(f'xmax : {xmax_list}')\n",
    "print(f'ymin : {ymin_list}')\n",
    "print(f'fmax : {ymax_list}')\n",
    "print(f'the rests: {the_rest_list}')\n"
   ]
  },
  {
   "cell_type": "code",
   "execution_count": 66,
   "metadata": {},
   "outputs": [
    {
     "data": {
      "text/plain": [
       "[(0, 0), (0, 4), (4, 0), (4, 4)]"
      ]
     },
     "execution_count": 66,
     "metadata": {},
     "output_type": "execute_result"
    }
   ],
   "source": [
    "ma_mat3 = np.zeros((5,5))\n",
    "xmin, xmax, ymin, ymax = 0, (len(ma_mat3) - 1), 0, (len(ma_mat3[0]) - 1)\n",
    "\n",
    "two_min_max_list = [[xmin, xmax], [ymin, ymax]]\n",
    "tmm_comb_list = list(product(*two_min_max_list) )\n",
    "one_min_max_list = [xmin, xmax, ymin, ymax]\n",
    "tmm_comb_list\n"
   ]
  },
  {
   "cell_type": "code",
   "execution_count": 64,
   "metadata": {},
   "outputs": [
    {
     "name": "stdout",
     "output_type": "stream",
     "text": [
      "yes\n"
     ]
    }
   ],
   "source": [
    "if (0, 0) in tmm_comb_list:\n",
    "    print('yes')"
   ]
  },
  {
   "cell_type": "code",
   "execution_count": 67,
   "metadata": {},
   "outputs": [],
   "source": [
    "if (1, 0) in one_min_max_list:\n",
    "    print('yes')"
   ]
  },
  {
   "cell_type": "code",
   "execution_count": 70,
   "metadata": {},
   "outputs": [
    {
     "name": "stdout",
     "output_type": "stream",
     "text": [
      "two min max : [(0, 0), (0, 4), (4, 0), (4, 4)]\n",
      "xmin : [(0, 1), (0, 2), (0, 3)]\n",
      "xmax : [(4, 1), (4, 2), (4, 3)]\n",
      "ymin : [(1, 0), (2, 0), (3, 0)]\n",
      "fmax : [(1, 4), (2, 4), (3, 4)]\n",
      "the rests: [(1, 1), (1, 2), (1, 3), (2, 1), (2, 2), (2, 3), (3, 1), (3, 2), (3, 3)]\n"
     ]
    }
   ],
   "source": [
    "# TRIAL\n",
    "ma_mat3 = np.zeros((5,5))\n",
    "xmin, xmax, ymin, ymax = 0, (len(ma_mat3) - 1), 0, (len(ma_mat3[0]) - 1)\n",
    "\n",
    "two_min_max_list = [[xmin, xmax], [ymin, ymax]]\n",
    "tmm_comb_list = list(product(*two_min_max_list) )\n",
    "\n",
    "tmm_collector_list = []\n",
    "xmin = []\n",
    "xmax = []\n",
    "ymin = []\n",
    "ymax = []\n",
    "the_rest = []\n",
    "\n",
    "\n",
    "\n",
    "\n",
    "\n",
    "for row, col in np.ndindex(ma_mat3.shape):\n",
    "    # print(ma_mat[row, col])\n",
    "\n",
    "    # color = color_bg if cells[row, col] == 0 else color_alive_next\n",
    "    \n",
    "    # xmin ymin (0, 0)\n",
    "    if (row, col) in tmm_comb_list :\n",
    "        tmm_collector_list.append((row, col))\n",
    "        \n",
    "        # alive = np.sum(ma_mat3[])\n",
    "    # xmin\n",
    "    elif (row == 0):\n",
    "        # print(f'xmin : {ma_mat[row, col]}')\n",
    "        xmin.append((row, col))\n",
    "    # xmax\n",
    "    elif (row == (len(ma_mat3) - 1)):\n",
    "        # print(f'xmax : {ma_mat[row, col]}')\n",
    "        xmax.append((row, col))\n",
    "    # ymin\n",
    "    elif (col == 0):\n",
    "        # print(f'ymin : {ma_mat[row, col]}')\n",
    "        ymin.append((row, col))\n",
    "    # ymax\n",
    "    elif (col == (len(ma_mat3) - 1)):\n",
    "        # print(f'ymin : {ma_mat[row, col]}')\n",
    "        ymax.append((row, col))\n",
    "    else:\n",
    "        # print(f'else : {ma_mat[row, col]}')\n",
    "        the_rest.append((row, col))\n",
    "\n",
    "print(f'two min max : {tmm_collector_list}')\n",
    "print(f'xmin : {xmin}')\n",
    "print(f'xmax : {xmax}')\n",
    "print(f'ymin : {ymin}')\n",
    "print(f'fmax : {ymax}')\n",
    "print(f'the rests: {the_rest}')\n"
   ]
  },
  {
   "cell_type": "code",
   "execution_count": null,
   "metadata": {},
   "outputs": [],
   "source": [
    "for row, col in np.ndindex(ma_mat.shape):\n",
    "    if row-1 < 1 or col < -1 :\n",
    "        pass\n",
    "\n"
   ]
  },
  {
   "cell_type": "code",
   "execution_count": 3,
   "metadata": {},
   "outputs": [
    {
     "name": "stdout",
     "output_type": "stream",
     "text": [
      "[]\n"
     ]
    }
   ],
   "source": [
    "\n",
    "ma_list = [_ for _ in range(10)]\n",
    "print(ma_list[9:0])\n",
    "\n",
    "# print(len)"
   ]
  },
  {
   "cell_type": "code",
   "execution_count": 6,
   "metadata": {},
   "outputs": [
    {
     "data": {
      "text/plain": [
       "3"
      ]
     },
     "execution_count": 6,
     "metadata": {},
     "output_type": "execute_result"
    }
   ],
   "source": [
    "len(ma_mat[0])"
   ]
  },
  {
   "cell_type": "code",
   "execution_count": 8,
   "metadata": {},
   "outputs": [
    {
     "data": {
      "text/plain": [
       "3"
      ]
     },
     "execution_count": 8,
     "metadata": {},
     "output_type": "execute_result"
    }
   ],
   "source": [
    "ma_mat[0][2]"
   ]
  },
  {
   "cell_type": "code",
   "execution_count": 4,
   "metadata": {},
   "outputs": [
    {
     "data": {
      "text/plain": [
       "array([[0., 0., 0., ..., 0., 0., 0.],\n",
       "       [0., 0., 0., ..., 0., 0., 0.],\n",
       "       [0., 0., 0., ..., 0., 0., 0.],\n",
       "       ...,\n",
       "       [0., 0., 0., ..., 0., 0., 0.],\n",
       "       [0., 0., 0., ..., 0., 0., 0.],\n",
       "       [0., 0., 0., ..., 0., 0., 0.]])"
      ]
     },
     "execution_count": 4,
     "metadata": {},
     "output_type": "execute_result"
    }
   ],
   "source": [
    "np.zeros((60, 80))"
   ]
  },
  {
   "cell_type": "code",
   "execution_count": 1,
   "metadata": {},
   "outputs": [
    {
     "ename": "NameError",
     "evalue": "name 'np' is not defined",
     "output_type": "error",
     "traceback": [
      "\u001b[1;31m---------------------------------------------------------------------------\u001b[0m",
      "\u001b[1;31mNameError\u001b[0m                                 Traceback (most recent call last)",
      "\u001b[1;32mc:\\Users\\ymlee\\Documents\\Python_Practice\\play.ipynb Cell 36\u001b[0m in \u001b[0;36m<cell line: 1>\u001b[1;34m()\u001b[0m\n\u001b[1;32m----> <a href='vscode-notebook-cell:/c%3A/Users/ymlee/Documents/Python_Practice/play.ipynb#X50sZmlsZQ%3D%3D?line=0'>1</a>\u001b[0m np\u001b[39m.\u001b[39mzeros((\u001b[39m2\u001b[39m,\u001b[39m2\u001b[39m,\u001b[39m2\u001b[39m))\n",
      "\u001b[1;31mNameError\u001b[0m: name 'np' is not defined"
     ]
    }
   ],
   "source": [
    "np.zeros((2,2,2))"
   ]
  },
  {
   "cell_type": "code",
   "execution_count": 13,
   "metadata": {},
   "outputs": [],
   "source": [
    "import pygame\n",
    "screen=pygame.display.set_mode([640, 480])\n",
    "screen.fill([255, 255, 255])\n",
    "red=255\n",
    "blue=0\n",
    "green=0\n",
    "left=50 \n",
    "top=50\n",
    "width=90\n",
    "height=90\n",
    "filled=0\n",
    "pygame.draw.rect(screen, [red, blue, green], [left, top, width, height], filled)\n",
    "pygame.display.flip()\n",
    "running=True\n",
    "while running:\n",
    "    for event in pygame.event.get():\n",
    "        if event.type==pygame.QUIT:\n",
    "            running=False\n",
    "pygame.quit()"
   ]
  },
  {
   "cell_type": "code",
   "execution_count": 3,
   "metadata": {},
   "outputs": [
    {
     "data": {
      "text/plain": [
       "array([[0., 0., 0.],\n",
       "       [0., 0., 0.],\n",
       "       [0., 0., 0.],\n",
       "       [0., 0., 0.]])"
      ]
     },
     "execution_count": 3,
     "metadata": {},
     "output_type": "execute_result"
    }
   ],
   "source": [
    "\n",
    "np.zeros((4, 3))"
   ]
  },
  {
   "cell_type": "code",
   "execution_count": 5,
   "metadata": {},
   "outputs": [
    {
     "ename": "TypeError",
     "evalue": "list indices must be integers or slices, not float",
     "output_type": "error",
     "traceback": [
      "\u001b[1;31m---------------------------------------------------------------------------\u001b[0m",
      "\u001b[1;31mTypeError\u001b[0m                                 Traceback (most recent call last)",
      "\u001b[1;32mc:\\Users\\ymlee\\Documents\\Python_Practice\\play.ipynb Cell 39\u001b[0m in \u001b[0;36m<cell line: 2>\u001b[1;34m()\u001b[0m\n\u001b[0;32m      <a href='vscode-notebook-cell:/c%3A/Users/ymlee/Documents/Python_Practice/play.ipynb#X54sZmlsZQ%3D%3D?line=0'>1</a>\u001b[0m color_alive_next_list\u001b[39m=\u001b[39m[(\u001b[39m250\u001b[39m, \u001b[39m250\u001b[39m, \u001b[39m110\u001b[39m), (\u001b[39m196\u001b[39m, \u001b[39m236\u001b[39m, \u001b[39m116\u001b[39m), (\u001b[39m146\u001b[39m, \u001b[39m220\u001b[39m, \u001b[39m126\u001b[39m), (\u001b[39m100\u001b[39m, \u001b[39m201\u001b[39m, \u001b[39m135\u001b[39m), (\u001b[39m57\u001b[39m, \u001b[39m180\u001b[39m, \u001b[39m142\u001b[39m)]\n\u001b[1;32m----> <a href='vscode-notebook-cell:/c%3A/Users/ymlee/Documents/Python_Practice/play.ipynb#X54sZmlsZQ%3D%3D?line=1'>2</a>\u001b[0m color_alive_next_list[\u001b[39m0.0\u001b[39;49m]\n",
      "\u001b[1;31mTypeError\u001b[0m: list indices must be integers or slices, not float"
     ]
    }
   ],
   "source": [
    "color_alive_next_list=[(250, 250, 110), (196, 236, 116), (146, 220, 126), (100, 201, 135), (57, 180, 142)]\n",
    "color_alive_next_list[0]"
   ]
  },
  {
   "cell_type": "code",
   "execution_count": 7,
   "metadata": {},
   "outputs": [
    {
     "data": {
      "text/plain": [
       "1"
      ]
     },
     "execution_count": 7,
     "metadata": {},
     "output_type": "execute_result"
    }
   ],
   "source": [
    "1%5"
   ]
  }
 ],
 "metadata": {
  "kernelspec": {
   "display_name": "Python 3.8.8 ('base')",
   "language": "python",
   "name": "python3"
  },
  "language_info": {
   "codemirror_mode": {
    "name": "ipython",
    "version": 3
   },
   "file_extension": ".py",
   "mimetype": "text/x-python",
   "name": "python",
   "nbconvert_exporter": "python",
   "pygments_lexer": "ipython3",
   "version": "3.8.8"
  },
  "orig_nbformat": 4,
  "vscode": {
   "interpreter": {
    "hash": "007f2b8ac17d3b60c0ff7978517949c1d23ef7fac904932de9ad05add8f29874"
   }
  }
 },
 "nbformat": 4,
 "nbformat_minor": 2
}
